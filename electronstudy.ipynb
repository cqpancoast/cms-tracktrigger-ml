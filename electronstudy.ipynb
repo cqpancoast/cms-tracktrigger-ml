{
 "cells": [
  {
   "cell_type": "markdown",
   "metadata": {},
   "source": [
    "# Electron Study\n",
    "\n",
    "The aim of this study is to determine whether the introduction of new track properties, namely `chi2rphi` and `chi2rz`, improve the performance of machine learning algorithms dedicated to telling whether electron-labeled track-trigger tracks are real or fake.\n",
    "\n",
    "The Monte-Carlo samples available are a QCD sample, a Z boson to muon-muon sample, and a Z boson to electron-electron sample. Each sample is run for the D49 detector geometry and contains 1000 events, each of which has a pileup of about 200.\n",
    "\n",
    "Much of the code here is run using the `ntupledicts` package, which can be found [here](https://github.com/cqpancoast/ntupledicts), along with a simple tutorial that covers all code used here.\n",
    "The requirements for running this notebook are the same as the ones listed for running `ntupledicts` in the README."
   ]
  },
  {
   "cell_type": "code",
   "execution_count": 1,
   "metadata": {},
   "outputs": [],
   "source": [
    "from uproot import open as uproot_open\n",
    "from tensorflow.keras import Sequential\n",
    "from tensorflow.keras.layers import Softmax\n",
    "from tensorflow.keras.layers import Dense\n",
    "\n",
    "from ntupledicts import operations as ndops\n",
    "from ntupledicts import analyze as ndanl\n",
    "from ntupledicts.operations import select as sel\n",
    "from ntupledicts.ml import data as ndmldata\n",
    "from ntupledicts.ml import predict as ndmlpred\n",
    "from ntupledicts.ml import models as ndmlmodels"
   ]
  },
  {
   "cell_type": "markdown",
   "metadata": {},
   "source": [
    "## Data Acquisition\n",
    "\n",
    "Grab tracks from stored ntuples, perform cuts, process into datasets.\n",
    "Take all electron tracks from the primary interaction and an equal number of fake tracks."
   ]
  },
  {
   "cell_type": "code",
   "execution_count": 2,
   "metadata": {},
   "outputs": [],
   "source": [
    "# List the ntuples we want data from\n",
    "#input_files = [\"eventsets/ZMM_PU200_D49.root\",\n",
    "#    \"eventsets/ZEE_PU200_D49.root\",\n",
    "#    \"eventsets/QCD_PU200_D49.root\"]\n",
    "input_files = [\"eventsets/TTbar_PU200_D49_20.root\"]\n",
    "\n",
    "# Create list of uproot event sets for easy data access\n",
    "event_sets = []\n",
    "for input_file in input_files:\n",
    "    event_sets.append(next(iter(uproot_open(input_file).values()))[\"eventTree\"])\n",
    "    \n",
    "# What track properties do we want available to play with?\n",
    "# We can select which ones we want our models to train on later\n",
    "track_properties = [\"pt\", \"eta\", \"z0\", \"nstub\",\n",
    "                        \"hitpattern\", \"chi2\", \"bendchi2\", \"chi2rphi\", \"chi2rz\"]\n",
    "properties_by_track_type = {\"trk\": track_properties + [\"matchtp_pdgid\", \"genuine\"],\n",
    "                            \"matchtrk\": track_properties, \n",
    "                            \"tp\": [\"pdgid\", \"eventid\"]}\n",
    "\n",
    "# Create ntuple dict from event sets\n",
    "ntuple_dict = ndops.uproot_ntuples_to_ntuple_dict(event_sets, properties_by_track_type)"
   ]
  },
  {
   "cell_type": "markdown",
   "metadata": {},
   "source": [
    "### Apply Cuts\n",
    "\n",
    "We want electron matchtrks from the primary interaction and an equal number of fake trks."
   ]
  },
  {
   "cell_type": "code",
   "execution_count": 3,
   "metadata": {},
   "outputs": [
    {
     "name": "stdout",
     "output_type": "stream",
     "text": [
      "Number of primary interaction electron tracks: 20\n",
      "Number of not genuine tracks: 20\n"
     ]
    },
    {
     "name": "stderr",
     "output_type": "stream",
     "text": [
      "/Users/caseypancoast/Code/CERN/ml-stuff/cms-tracktrigger-ml/ntupledicts/operations.py:89: UserWarning: Track property dicts have differing value lists. Will add only properties in common: {'genuine', 'chi2', 'bendchi2', 'chi2rphi', 'z0', 'hitpattern', 'eta', 'pt', 'nstub', 'chi2rz'}\n",
      "  .format(props_in_common), UserWarning)\n"
     ]
    }
   ],
   "source": [
    "# Would we like to consider only a portion of this dataset? (Typically done for speed reasons.)\n",
    "reduce_ntuple_dict = False\n",
    "reduction_size = 1000000  # number of tracks to reduce to\n",
    "if reduce_ntuple_dict:\n",
    "    ntuple_dict = ndops.reduce_ntuple_dict(ntuple_dict, reduction_size)\n",
    "\n",
    "# Get electron matchtrks from the primary interaction, fake trks\n",
    "# Note that cutting on tp's also cuts on matchtrks\n",
    "el_sel = sel([sel(11), sel(-11)])\n",
    "ntuple_dict = ndops.cut_ntuple_dict(ntuple_dict, {\"tp\": {\"pdgid\": el_sel, \"eventid\": sel(0)},\n",
    "                                            \"matchtrk\": {\"hitpattern\": sel([sel(-999)], invert=True)},\n",
    "                                                 \"trk\": {\"genuine\": sel(0)}})\n",
    "matchtrk_els = ntuple_dict[\"matchtrk\"]\n",
    "matchtrk_els[\"genuine\"] = [1 for _ in range(ndops.track_prop_dict_length(matchtrk_els))]\n",
    "    # All matchtrks are genuine\n",
    "trk_not_gens = ntuple_dict[\"trk\"]\n",
    "trk_not_gens = ndops.reduce_track_prop_dict(trk_not_gens, ndops.track_prop_dict_length(matchtrk_els))\n",
    "\n",
    "# Cut down the number of not genuine tracks to the number of electrons\n",
    "print(\"Number of primary interaction electron tracks: {}\".format(ndops.track_prop_dict_length(matchtrk_els)))\n",
    "print(\"Number of not genuine tracks: {}\".format(ndops.track_prop_dict_length(trk_not_gens)))\n",
    "\n",
    "# Now, add them together.\n",
    "# A UserWarning is expected here, as trk_not_gens has a property \"matchtp_pdgid\" that matchtrk_els doesn't have.\n",
    "els_and_fakes_tpd = ndops.shuffle_track_prop_dict(\n",
    "                        ndops.add_track_prop_dicts([matchtrk_els, trk_not_gens]),\n",
    "                        seed=42)"
   ]
  },
  {
   "cell_type": "markdown",
   "metadata": {},
   "source": [
    "### Add Stub-Based Track Properties\n",
    "\n",
    "Use hitpattern and eta to determine how many missing 2S and PS stubs there are for each track. (Note that this is post-cuts — if we want to place cuts on these, we'll move this cell before the cut application cell.)"
   ]
  },
  {
   "cell_type": "code",
   "execution_count": 4,
   "metadata": {},
   "outputs": [],
   "source": [
    "# Count layers meeting these conditions for each track. (see ntupledicts.analyze for documentation)\n",
    "missing_2S_layer = lambda expected, hit, ps: not ps and expected and not hit\n",
    "missing_PS_layer = lambda expected, hit, ps: ps and expected and not hit\n",
    "\n",
    "els_and_fakes_tpd[\"missing2S\"] = ndanl.create_stub_info_list(els_and_fakes_tpd,\n",
    "        ndanl.basic_process_stub_info(missing_2S_layer))\n",
    "els_and_fakes_tpd[\"missingPS\"] = ndanl.create_stub_info_list(els_and_fakes_tpd,\n",
    "        ndanl.basic_process_stub_info(missing_PS_layer))"
   ]
  },
  {
   "cell_type": "markdown",
   "metadata": {},
   "source": [
    "### Process into Datasets\n",
    "\n",
    "Process the ntuple dict above into `TrackPropertiesDataset`s."
   ]
  },
  {
   "cell_type": "code",
   "execution_count": 5,
   "metadata": {},
   "outputs": [],
   "source": [
    "common_track_props = [\"pt\", \"eta\", \"z0\", \"bendchi2\", \"nstub\", \"missing2S\", \"missingPS\"]  \n",
    "    # Track properties that both sets of models will use.\n",
    "non_sc2_data_props = common_track_props + [\"chi2\"]  # Our first set of models will also include chi2.\n",
    "label_property = \"genuine\"  # What property are we trying to predict?\n",
    "split_list = [.7, .2, .1]   # How many datasets should we create, and with what relative sizes?\n",
    "train_ds, eval_ds, test_ds = ndmldata.TrackPropertiesDataset(els_and_fakes_tpd,\n",
    "                                                             label_property,\n",
    "                                                             non_sc2_data_props).split(split_list)"
   ]
  },
  {
   "cell_type": "markdown",
   "metadata": {},
   "source": [
    "## Making Models\n",
    "\n",
    "Build two neural networks and two gradient boosted decision trees, train one of them on data containing the split chi2 variables and one of them on data without them. Also define two sets of predictive cuts to compare our models against."
   ]
  },
  {
   "cell_type": "markdown",
   "metadata": {},
   "source": [
    "### Chi2 Model Training"
   ]
  },
  {
   "cell_type": "code",
   "execution_count": 6,
   "metadata": {
    "scrolled": false
   },
   "outputs": [
    {
     "name": "stdout",
     "output_type": "stream",
     "text": [
      "Train on 28 samples, validate on 8 samples\n",
      "Epoch 1/10\n",
      "28/28 [==============================] - 2s 58ms/sample - loss: 0.7517 - accuracy: 0.4643 - val_loss: 0.8012 - val_accuracy: 0.5000\n",
      "Epoch 2/10\n",
      "28/28 [==============================] - 0s 3ms/sample - loss: 0.7384 - accuracy: 0.4643 - val_loss: 0.8091 - val_accuracy: 0.3750\n",
      "Epoch 3/10\n",
      "28/28 [==============================] - 0s 3ms/sample - loss: 0.7313 - accuracy: 0.5357 - val_loss: 0.8182 - val_accuracy: 0.3750\n",
      "Epoch 4/10\n",
      "28/28 [==============================] - 0s 3ms/sample - loss: 0.7226 - accuracy: 0.6429 - val_loss: 0.8272 - val_accuracy: 0.3750\n",
      "Epoch 5/10\n",
      "28/28 [==============================] - 0s 3ms/sample - loss: 0.7143 - accuracy: 0.6429 - val_loss: 0.8355 - val_accuracy: 0.3750\n",
      "Epoch 6/10\n",
      "28/28 [==============================] - 0s 3ms/sample - loss: 0.7069 - accuracy: 0.6429 - val_loss: 0.8431 - val_accuracy: 0.3750\n",
      "Epoch 7/10\n",
      "28/28 [==============================] - 0s 3ms/sample - loss: 0.7001 - accuracy: 0.6071 - val_loss: 0.8481 - val_accuracy: 0.2500\n",
      "Epoch 8/10\n",
      "28/28 [==============================] - 0s 3ms/sample - loss: 0.6952 - accuracy: 0.6071 - val_loss: 0.8544 - val_accuracy: 0.2500\n",
      "Epoch 9/10\n",
      "28/28 [==============================] - 0s 3ms/sample - loss: 0.6902 - accuracy: 0.6071 - val_loss: 0.8605 - val_accuracy: 0.2500\n",
      "Epoch 10/10\n",
      "28/28 [==============================] - 0s 3ms/sample - loss: 0.6856 - accuracy: 0.6071 - val_loss: 0.8653 - val_accuracy: 0.2500\n"
     ]
    }
   ],
   "source": [
    "# Make our non-split chi2 set of models\n",
    "NN = ndmlmodels.make_neuralnet(train_ds, eval_dataset=eval_ds, hidden_layers=[15, 8], epochs=10)\n",
    "GBDT = ndmlmodels.make_gbdt(train_ds)"
   ]
  },
  {
   "cell_type": "markdown",
   "metadata": {},
   "source": [
    "### Split Chi2 Model Training"
   ]
  },
  {
   "cell_type": "code",
   "execution_count": 7,
   "metadata": {},
   "outputs": [
    {
     "name": "stdout",
     "output_type": "stream",
     "text": [
      "Train on 28 samples, validate on 8 samples\n",
      "Epoch 1/10\n",
      "28/28 [==============================] - 1s 51ms/sample - loss: 0.8192 - accuracy: 0.3571 - val_loss: 0.6176 - val_accuracy: 0.7500\n",
      "Epoch 2/10\n",
      "28/28 [==============================] - 0s 3ms/sample - loss: 0.7971 - accuracy: 0.3571 - val_loss: 0.6247 - val_accuracy: 0.7500\n",
      "Epoch 3/10\n",
      "28/28 [==============================] - 0s 3ms/sample - loss: 0.7791 - accuracy: 0.3571 - val_loss: 0.6326 - val_accuracy: 0.7500\n",
      "Epoch 4/10\n",
      "28/28 [==============================] - 0s 3ms/sample - loss: 0.7612 - accuracy: 0.3214 - val_loss: 0.6408 - val_accuracy: 0.7500\n",
      "Epoch 5/10\n",
      "28/28 [==============================] - 0s 3ms/sample - loss: 0.7475 - accuracy: 0.3571 - val_loss: 0.6498 - val_accuracy: 0.6250\n",
      "Epoch 6/10\n",
      "28/28 [==============================] - 0s 3ms/sample - loss: 0.7348 - accuracy: 0.3929 - val_loss: 0.6575 - val_accuracy: 0.6250\n",
      "Epoch 7/10\n",
      "28/28 [==============================] - 0s 3ms/sample - loss: 0.7238 - accuracy: 0.3571 - val_loss: 0.6648 - val_accuracy: 0.5000\n",
      "Epoch 8/10\n",
      "28/28 [==============================] - 0s 3ms/sample - loss: 0.7162 - accuracy: 0.3571 - val_loss: 0.6723 - val_accuracy: 0.5000\n",
      "Epoch 9/10\n",
      "28/28 [==============================] - 0s 3ms/sample - loss: 0.7067 - accuracy: 0.3929 - val_loss: 0.6796 - val_accuracy: 0.5000\n",
      "Epoch 10/10\n",
      "28/28 [==============================] - 0s 3ms/sample - loss: 0.6981 - accuracy: 0.4643 - val_loss: 0.6860 - val_accuracy: 0.5000\n"
     ]
    }
   ],
   "source": [
    "# Remove chi2 and introduce the split chi2's as active data properties\n",
    "sc2_data_props = common_track_props + [\"chi2rphi\", \"chi2rz\"]\n",
    "for ds in [train_ds, eval_ds, test_ds]:\n",
    "    ds.set_active_data_properties(sc2_data_props)\n",
    "\n",
    "# Make our split chi2 set of models (sc2 stands for split chi2)\n",
    "NN_sc2 = ndmlmodels.make_neuralnet(train_ds, eval_dataset=eval_ds, hidden_layers=[15, 8], epochs=10)\n",
    "GBDT_sc2 = ndmlmodels.make_gbdt(train_ds)"
   ]
  },
  {
   "cell_type": "markdown",
   "metadata": {},
   "source": [
    "### Predictive Cuts"
   ]
  },
  {
   "cell_type": "code",
   "execution_count": 8,
   "metadata": {},
   "outputs": [],
   "source": [
    "# Define predictive cuts\n",
    "chi2_cuts = {\"chi2\": sel(0, 70), \"bendchi2\": sel(0, 2.5)}\n",
    "sc2_cuts = {\"chi2rz\": sel(0, 5), \"bendchi2\": sel(0, 2.5)}  # Chi2rz cuts perform much better for electrons than chi2rphi"
   ]
  },
  {
   "cell_type": "markdown",
   "metadata": {},
   "source": [
    "### Model Predictions\n",
    "\n",
    "Use the test dataset `test_ds` that hasn't been used for training to make predicted labels. These will be probablistic in the case of the models `NN` and `GBDT` and exact in the case of `cuts`. Store these predictions in `test_ds` for easy future access."
   ]
  },
  {
   "cell_type": "code",
   "execution_count": 9,
   "metadata": {},
   "outputs": [],
   "source": [
    "# Add normal chi2 predictions\n",
    "test_ds.add_prediction(\"NN\", ndmlpred.predict_labels(NN, test_ds.get_data(non_sc2_data_props)))\n",
    "test_ds.add_prediction(\"GBDT\", ndmlpred.predict_labels(GBDT, test_ds.get_data(non_sc2_data_props)))\n",
    "test_ds.add_prediction(\"chi2_cuts\", ndmlpred.predict_labels_cuts(chi2_cuts, test_ds))\n",
    "\n",
    "# Add split chi2 predictions\n",
    "test_ds.add_prediction(\"NN_sc2\", ndmlpred.predict_labels(NN_sc2, test_ds.get_data(sc2_data_props)))\n",
    "test_ds.add_prediction(\"GBDT_sc2\", ndmlpred.predict_labels(GBDT_sc2, test_ds.get_data(sc2_data_props)))\n",
    "test_ds.add_prediction(\"sc2_cuts\", ndmlpred.predict_labels_cuts(sc2_cuts, test_ds))"
   ]
  },
  {
   "cell_type": "markdown",
   "metadata": {},
   "source": [
    "## Plotting Model Predictions\n",
    "\n",
    "Now we'll compare the two sets of predictions to see which ones perform better. These plots will measure the true positive rate and false positive rate (TPR and FPR) of these predictions with respect to various threshold values and track properties."
   ]
  },
  {
   "cell_type": "code",
   "execution_count": 10,
   "metadata": {},
   "outputs": [],
   "source": [
    "from ntupledicts import plot as ndplot\n",
    "from ntupledicts.ml import plot as ndmlplot\n",
    "from matplotlib.pyplot import cla, sca, gca, show"
   ]
  },
  {
   "cell_type": "markdown",
   "metadata": {},
   "source": [
    "(These import statementa are down here for debug purposes - so we don't have to rerun all the cells to change something in `ml.plot` suite or add some new `matplotlib` import.)"
   ]
  },
  {
   "cell_type": "markdown",
   "metadata": {},
   "source": [
    "### ROC Curve\n",
    "\n",
    "Plot the models' paths through TPR/FPR space as the threshold on probablistically predicted labels changes. Also includes the cuts' point in that space."
   ]
  },
  {
   "cell_type": "code",
   "execution_count": 11,
   "metadata": {},
   "outputs": [
    {
     "name": "stderr",
     "output_type": "stream",
     "text": [
      "/Users/caseypancoast/anaconda3/envs/ml/lib/python3.7/site-packages/sklearn/metrics/_ranking.py:800: UndefinedMetricWarning: No negative samples in y_true, false positive value should be meaningless\n",
      "  UndefinedMetricWarning)\n"
     ]
    },
    {
     "ename": "ValueError",
     "evalue": "Only one class present in y_true. ROC AUC score is not defined in that case.",
     "output_type": "error",
     "traceback": [
      "\u001b[0;31m---------------------------------------------------------------------------\u001b[0m",
      "\u001b[0;31mValueError\u001b[0m                                Traceback (most recent call last)",
      "\u001b[0;32m<ipython-input-11-15b7552f51ec>\u001b[0m in \u001b[0;36m<module>\u001b[0;34m\u001b[0m\n\u001b[1;32m      2\u001b[0m \u001b[0mylims\u001b[0m\u001b[0;34m=\u001b[0m\u001b[0;34m(\u001b[0m\u001b[0;36m0\u001b[0m\u001b[0;34m,\u001b[0m \u001b[0;36m1\u001b[0m\u001b[0;34m)\u001b[0m\u001b[0;34m\u001b[0m\u001b[0;34m\u001b[0m\u001b[0m\n\u001b[1;32m      3\u001b[0m \u001b[0;34m\u001b[0m\u001b[0m\n\u001b[0;32m----> 4\u001b[0;31m \u001b[0mndmlplot\u001b[0m\u001b[0;34m.\u001b[0m\u001b[0mplot_rocs\u001b[0m\u001b[0;34m(\u001b[0m\u001b[0mtest_ds\u001b[0m\u001b[0;34m,\u001b[0m \u001b[0;34m[\u001b[0m\u001b[0;34m\"NN\"\u001b[0m\u001b[0;34m,\u001b[0m \u001b[0;34m\"GBDT\"\u001b[0m\u001b[0;34m]\u001b[0m\u001b[0;34m,\u001b[0m \u001b[0;34m[\u001b[0m\u001b[0;34m\"chi2_cuts\"\u001b[0m\u001b[0;34m]\u001b[0m\u001b[0;34m,\u001b[0m \u001b[0mxlims\u001b[0m\u001b[0;34m=\u001b[0m\u001b[0mxlims\u001b[0m\u001b[0;34m,\u001b[0m \u001b[0mylims\u001b[0m\u001b[0;34m=\u001b[0m\u001b[0mylims\u001b[0m\u001b[0;34m)\u001b[0m\u001b[0;34m\u001b[0m\u001b[0;34m\u001b[0m\u001b[0m\n\u001b[0m\u001b[1;32m      5\u001b[0m \u001b[0mndmlplot\u001b[0m\u001b[0;34m.\u001b[0m\u001b[0mplot_rocs\u001b[0m\u001b[0;34m(\u001b[0m\u001b[0mtest_ds\u001b[0m\u001b[0;34m,\u001b[0m \u001b[0;34m[\u001b[0m\u001b[0;34m\"NN_sc2\"\u001b[0m\u001b[0;34m,\u001b[0m \u001b[0;34m\"GBDT_sc2\"\u001b[0m\u001b[0;34m]\u001b[0m\u001b[0;34m,\u001b[0m \u001b[0;34m[\u001b[0m\u001b[0;34m\"sc2_cuts\"\u001b[0m\u001b[0;34m]\u001b[0m\u001b[0;34m,\u001b[0m \u001b[0mxlims\u001b[0m\u001b[0;34m=\u001b[0m\u001b[0mxlims\u001b[0m\u001b[0;34m,\u001b[0m \u001b[0mylims\u001b[0m\u001b[0;34m=\u001b[0m\u001b[0mylims\u001b[0m\u001b[0;34m)\u001b[0m\u001b[0;34m\u001b[0m\u001b[0;34m\u001b[0m\u001b[0m\n",
      "\u001b[0;32m~/Code/CERN/ml-stuff/cms-tracktrigger-ml/ntupledicts/ml/plot.py\u001b[0m in \u001b[0;36mplot_rocs\u001b[0;34m(dataset, prob_pred_names, def_pred_names, xlims, ylims)\u001b[0m\n\u001b[1;32m    125\u001b[0m         \u001b[0mpred_prob_labels\u001b[0m \u001b[0;34m=\u001b[0m \u001b[0mdataset\u001b[0m\u001b[0;34m.\u001b[0m\u001b[0mget_prediction\u001b[0m\u001b[0;34m(\u001b[0m\u001b[0mprob_pred_name\u001b[0m\u001b[0;34m)\u001b[0m\u001b[0;34m\u001b[0m\u001b[0;34m\u001b[0m\u001b[0m\n\u001b[1;32m    126\u001b[0m         \u001b[0mfpr\u001b[0m\u001b[0;34m,\u001b[0m \u001b[0mtpr\u001b[0m\u001b[0;34m,\u001b[0m \u001b[0m_\u001b[0m \u001b[0;34m=\u001b[0m \u001b[0mroc_curve\u001b[0m\u001b[0;34m(\u001b[0m\u001b[0mlabels\u001b[0m\u001b[0;34m,\u001b[0m \u001b[0mpred_prob_labels\u001b[0m\u001b[0;34m)\u001b[0m\u001b[0;34m\u001b[0m\u001b[0;34m\u001b[0m\u001b[0m\n\u001b[0;32m--> 127\u001b[0;31m         \u001b[0mauc\u001b[0m \u001b[0;34m=\u001b[0m \u001b[0mroc_auc_score\u001b[0m\u001b[0;34m(\u001b[0m\u001b[0mlabels\u001b[0m\u001b[0;34m,\u001b[0m \u001b[0mpred_prob_labels\u001b[0m\u001b[0;34m)\u001b[0m\u001b[0;34m\u001b[0m\u001b[0;34m\u001b[0m\u001b[0m\n\u001b[0m\u001b[1;32m    128\u001b[0m         \u001b[0mlabel\u001b[0m \u001b[0;34m=\u001b[0m \u001b[0;34m\"{} ({})\"\u001b[0m\u001b[0;34m.\u001b[0m\u001b[0mformat\u001b[0m\u001b[0;34m(\u001b[0m\u001b[0mprob_pred_name\u001b[0m\u001b[0;34m,\u001b[0m \u001b[0mstr\u001b[0m\u001b[0;34m(\u001b[0m\u001b[0mround\u001b[0m\u001b[0;34m(\u001b[0m\u001b[0mauc\u001b[0m\u001b[0;34m,\u001b[0m \u001b[0;36m3\u001b[0m\u001b[0;34m)\u001b[0m\u001b[0;34m)\u001b[0m\u001b[0;34m)\u001b[0m\u001b[0;34m\u001b[0m\u001b[0;34m\u001b[0m\u001b[0m\n\u001b[1;32m    129\u001b[0m         \u001b[0max\u001b[0m\u001b[0;34m.\u001b[0m\u001b[0mplot\u001b[0m\u001b[0;34m(\u001b[0m\u001b[0mfpr\u001b[0m\u001b[0;34m,\u001b[0m \u001b[0mtpr\u001b[0m\u001b[0;34m,\u001b[0m \u001b[0mlabel\u001b[0m\u001b[0;34m=\u001b[0m\u001b[0mlabel\u001b[0m\u001b[0;34m,\u001b[0m \u001b[0mlinewidth\u001b[0m\u001b[0;34m=\u001b[0m\u001b[0;36m2\u001b[0m\u001b[0;34m)\u001b[0m\u001b[0;34m\u001b[0m\u001b[0;34m\u001b[0m\u001b[0m\n",
      "\u001b[0;32m~/anaconda3/envs/ml/lib/python3.7/site-packages/sklearn/metrics/_ranking.py\u001b[0m in \u001b[0;36mroc_auc_score\u001b[0;34m(y_true, y_score, average, sample_weight, max_fpr, multi_class, labels)\u001b[0m\n\u001b[1;32m    388\u001b[0m                                              max_fpr=max_fpr),\n\u001b[1;32m    389\u001b[0m                                      \u001b[0my_true\u001b[0m\u001b[0;34m,\u001b[0m \u001b[0my_score\u001b[0m\u001b[0;34m,\u001b[0m \u001b[0maverage\u001b[0m\u001b[0;34m,\u001b[0m\u001b[0;34m\u001b[0m\u001b[0;34m\u001b[0m\u001b[0m\n\u001b[0;32m--> 390\u001b[0;31m                                      sample_weight=sample_weight)\n\u001b[0m\u001b[1;32m    391\u001b[0m     \u001b[0;32melse\u001b[0m\u001b[0;34m:\u001b[0m  \u001b[0;31m# multilabel-indicator\u001b[0m\u001b[0;34m\u001b[0m\u001b[0;34m\u001b[0m\u001b[0m\n\u001b[1;32m    392\u001b[0m         return _average_binary_score(partial(_binary_roc_auc_score,\n",
      "\u001b[0;32m~/anaconda3/envs/ml/lib/python3.7/site-packages/sklearn/metrics/_base.py\u001b[0m in \u001b[0;36m_average_binary_score\u001b[0;34m(binary_metric, y_true, y_score, average, sample_weight)\u001b[0m\n\u001b[1;32m     75\u001b[0m \u001b[0;34m\u001b[0m\u001b[0m\n\u001b[1;32m     76\u001b[0m     \u001b[0;32mif\u001b[0m \u001b[0my_type\u001b[0m \u001b[0;34m==\u001b[0m \u001b[0;34m\"binary\"\u001b[0m\u001b[0;34m:\u001b[0m\u001b[0;34m\u001b[0m\u001b[0;34m\u001b[0m\u001b[0m\n\u001b[0;32m---> 77\u001b[0;31m         \u001b[0;32mreturn\u001b[0m \u001b[0mbinary_metric\u001b[0m\u001b[0;34m(\u001b[0m\u001b[0my_true\u001b[0m\u001b[0;34m,\u001b[0m \u001b[0my_score\u001b[0m\u001b[0;34m,\u001b[0m \u001b[0msample_weight\u001b[0m\u001b[0;34m=\u001b[0m\u001b[0msample_weight\u001b[0m\u001b[0;34m)\u001b[0m\u001b[0;34m\u001b[0m\u001b[0;34m\u001b[0m\u001b[0m\n\u001b[0m\u001b[1;32m     78\u001b[0m \u001b[0;34m\u001b[0m\u001b[0m\n\u001b[1;32m     79\u001b[0m     \u001b[0mcheck_consistent_length\u001b[0m\u001b[0;34m(\u001b[0m\u001b[0my_true\u001b[0m\u001b[0;34m,\u001b[0m \u001b[0my_score\u001b[0m\u001b[0;34m,\u001b[0m \u001b[0msample_weight\u001b[0m\u001b[0;34m)\u001b[0m\u001b[0;34m\u001b[0m\u001b[0;34m\u001b[0m\u001b[0m\n",
      "\u001b[0;32m~/anaconda3/envs/ml/lib/python3.7/site-packages/sklearn/metrics/_ranking.py\u001b[0m in \u001b[0;36m_binary_roc_auc_score\u001b[0;34m(y_true, y_score, sample_weight, max_fpr)\u001b[0m\n\u001b[1;32m    219\u001b[0m     \u001b[0;34m\"\"\"Binary roc auc score\"\"\"\u001b[0m\u001b[0;34m\u001b[0m\u001b[0;34m\u001b[0m\u001b[0m\n\u001b[1;32m    220\u001b[0m     \u001b[0;32mif\u001b[0m \u001b[0mlen\u001b[0m\u001b[0;34m(\u001b[0m\u001b[0mnp\u001b[0m\u001b[0;34m.\u001b[0m\u001b[0munique\u001b[0m\u001b[0;34m(\u001b[0m\u001b[0my_true\u001b[0m\u001b[0;34m)\u001b[0m\u001b[0;34m)\u001b[0m \u001b[0;34m!=\u001b[0m \u001b[0;36m2\u001b[0m\u001b[0;34m:\u001b[0m\u001b[0;34m\u001b[0m\u001b[0;34m\u001b[0m\u001b[0m\n\u001b[0;32m--> 221\u001b[0;31m         raise ValueError(\"Only one class present in y_true. ROC AUC score \"\n\u001b[0m\u001b[1;32m    222\u001b[0m                          \"is not defined in that case.\")\n\u001b[1;32m    223\u001b[0m \u001b[0;34m\u001b[0m\u001b[0m\n",
      "\u001b[0;31mValueError\u001b[0m: Only one class present in y_true. ROC AUC score is not defined in that case."
     ]
    },
    {
     "data": {
      "image/png": "[encoded data removed]",
      "text/plain": [
       "<Figure size 432x288 with 1 Axes>"
      ]
     },
     "metadata": {
      "needs_background": "light"
     },
     "output_type": "display_data"
    }
   ],
   "source": [
    "xlims=(0, 1)\n",
    "ylims=(0, 1)\n",
    "\n",
    "ndmlplot.plot_rocs(test_ds, [\"NN\", \"GBDT\"], [\"chi2_cuts\"], xlims=xlims, ylims=ylims)\n",
    "ndmlplot.plot_rocs(test_ds, [\"NN_sc2\", \"GBDT_sc2\"], [\"sc2_cuts\"], xlims=xlims, ylims=ylims)"
   ]
  },
  {
   "cell_type": "markdown",
   "metadata": {},
   "source": [
    "### Particle TPR and FPR by Threshold\n",
    "\n",
    "Plot TPR and FPR for particles of a particular type as the threshold for assigning probablistic values to either genuine or not genuine shifts from zero to one. Make plots for both sets of models to compare performance."
   ]
  },
  {
   "cell_type": "code",
   "execution_count": 12,
   "metadata": {
    "scrolled": false
   },
   "outputs": [
    {
     "data": {
      "image/png": "[encoded data removed]",
      "text/plain": [
       "<Figure size 432x288 with 1 Axes>"
      ]
     },
     "metadata": {
      "needs_background": "light"
     },
     "output_type": "display_data"
    },
    {
     "data": {
      "image/png": "[encoded data removed]",
      "text/plain": [
       "<Figure size 432x288 with 1 Axes>"
      ]
     },
     "metadata": {
      "needs_background": "light"
     },
     "output_type": "display_data"
    },
    {
     "data": {
      "image/png": "[encoded data removed]",
      "text/plain": [
       "<Figure size 432x288 with 1 Axes>"
      ]
     },
     "metadata": {
      "needs_background": "light"
     },
     "output_type": "display_data"
    }
   ],
   "source": [
    "# TPR/FPR vs decision thresh * models, ov. particle type\n",
    "for pred_comparison, pred_comp_name in zip(\n",
    "        [ndmlpred.true_positive_rate, ndmlpred.false_positive_rate],\n",
    "        [\"TPR\", \"FPR\"]):\n",
    "    ax = gca()\n",
    "    for pred_name in test_ds.get_all_prediction_names():\n",
    "        if \"cut\" in pred_name:\n",
    "            continue\n",
    "        ax = ndmlplot.plot_pred_comparison_by_threshold(test_ds,\n",
    "                pred_name, pred_comparison, legend_id=pred_name, ax=ax)\n",
    "    ax.set_ylabel(pred_comp_name)\n",
    "    ax.set_title(\"{} of model predictions by threshold\".format(pred_comp_name))\n",
    "    ax.legend()\n",
    "    show()\n",
    "    cla()"
   ]
  },
  {
   "cell_type": "markdown",
   "metadata": {},
   "source": [
    "### Particle TPR and FPR by Track Property\n",
    "\n",
    "Plot TPR and FPR for particles of a particular type for binned values of some track property. The aim of this is to get a sense of how model performance depends upon track properties like pT and eta. Make plots for both sets of models to compare performance."
   ]
  },
  {
   "cell_type": "code",
   "execution_count": 13,
   "metadata": {},
   "outputs": [
    {
     "data": {
      "image/png": "[encoded data removed]",
      "text/plain": [
       "<Figure size 432x288 with 1 Axes>"
      ]
     },
     "metadata": {
      "needs_background": "light"
     },
     "output_type": "display_data"
    },
    {
     "data": {
      "image/png": "[encoded data removed]",
      "text/plain": [
       "<Figure size 432x288 with 1 Axes>"
      ]
     },
     "metadata": {
      "needs_background": "light"
     },
     "output_type": "display_data"
    },
    {
     "data": {
      "image/png": "[encoded data removed]",
      "text/plain": [
       "<Figure size 432x288 with 1 Axes>"
      ]
     },
     "metadata": {
      "needs_background": "light"
     },
     "output_type": "display_data"
    }
   ],
   "source": [
    "# TPR/FPR vs some track prop * models, ov. particle type.\n",
    "# Parametrized by binning property.\n",
    "\n",
    "# A dictionary from track properties to bin specifiers\n",
    "binning_dict = {\"pt\": (2, 100, 30)}\n",
    "\n",
    "for binning_prop, bins in zip(binning_dict.keys(), binning_dict.values()):\n",
    "    for pred_comparison, pred_comp_name in zip(\n",
    "            [ndmlpred.true_positive_rate, ndmlpred.false_positive_rate],\n",
    "            [\"TPR\", \"FPR\"]):\n",
    "        ax = gca()\n",
    "        for pred_name in test_ds.get_all_prediction_names():\n",
    "            ax = ndmlplot.plot_pred_comparison_by_track_property(\n",
    "                    test_ds, pred_name,\n",
    "                    pred_comparison, binning_prop, bins=bins,\n",
    "                    legend_id=pred_name, ax=ax)\n",
    "        ax.set_ylabel(pred_comp_name)\n",
    "        ax.set_title(\"{} of model predictions vs. {}\".format(pred_comp_name, binning_prop))\n",
    "        ax.legend()\n",
    "        show()\n",
    "        cla()"
   ]
  },
  {
   "cell_type": "markdown",
   "metadata": {},
   "source": [
    "## Takeaways\n",
    "\n",
    "Bacon ipsum dolor amet..."
   ]
  }
 ],
 "metadata": {
  "kernelspec": {
   "display_name": "Python 3",
   "language": "python",
   "name": "python3"
  },
  "language_info": {
   "codemirror_mode": {
    "name": "ipython",
    "version": 3
   },
   "file_extension": ".py",
   "mimetype": "text/x-python",
   "name": "python",
   "nbconvert_exporter": "python",
   "pygments_lexer": "ipython3",
   "version": "3.7.6"
  }
 },
 "nbformat": 4,
 "nbformat_minor": 4
}
